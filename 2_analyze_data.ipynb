{
 "cells": [
  {
   "cell_type": "markdown",
   "id": "dbb8077c-8d8e-4a15-a572-e235eb86ea71",
   "metadata": {},
   "source": [
    "# Analyze Data"
   ]
  },
  {
   "cell_type": "code",
   "execution_count": null,
   "id": "2b100354-8e81-48bf-935d-8c860874b73b",
   "metadata": {},
   "outputs": [],
   "source": [
    "library(arrow, warn.conflicts = FALSE)\n",
    "library(dplyr, warn.conflicts = FALSE)\n",
    "library(ggplot2)\n",
    "library(scales)\n",
    "library(survival)\n",
    "library(survminer)\n",
    "library(splines)\n",
    "library(emmeans)\n",
    "library(stringr)\n",
    "library(xtable)"
   ]
  },
  {
   "cell_type": "code",
   "execution_count": null,
   "id": "1db3e9a2-147a-421e-a63b-3408d844db6f",
   "metadata": {},
   "outputs": [],
   "source": [
    "library(truveta.research)"
   ]
  },
  {
   "cell_type": "code",
   "execution_count": null,
   "id": "ab1c5ceb-6553-4c9d-95cf-acc85b05221a",
   "metadata": {},
   "outputs": [],
   "source": [
    "source(here::here(\"wrangle_scripts\", \"R\", \"_.R\"))"
   ]
  },
  {
   "cell_type": "code",
   "execution_count": null,
   "id": "1b8db42d-f504-4003-9df7-21ca60b01269",
   "metadata": {},
   "outputs": [],
   "source": [
    "results_dir <- here::here(\"results\")\n",
    "data_dir <- here::here(\"data\")\n",
    "dir.create(data_dir, recursive = TRUE, showWarnings = FALSE)"
   ]
  },
  {
   "cell_type": "code",
   "execution_count": null,
   "id": "68ae51fe-17a3-4f2f-8520-508e10599898",
   "metadata": {},
   "outputs": [],
   "source": [
    "conditions <- c('ckd', 'diabetes', 'immunocompromised', 'lung')"
   ]
  },
  {
   "cell_type": "code",
   "execution_count": null,
   "id": "9beb4284-3a48-448e-88ce-0bd0b01c0d2b",
   "metadata": {},
   "outputs": [],
   "source": [
    "initialize_theme_truveta(figsize = c(10, 7))"
   ]
  },
  {
   "cell_type": "code",
   "execution_count": null,
   "id": "6093af02-0a1e-4624-b167-dda874f005ea",
   "metadata": {},
   "outputs": [],
   "source": [
    "make_summary_graph <- function(summary_table, ncol = 2) {\n",
    "  out <- \n",
    "    summary_table |>\n",
    "    dplyr::filter(term %in% conditions) |>\n",
    "    ggplot(aes(x = estimate, y = term)) +\n",
    "    geom_vline(xintercept = 1, linetype = 'dashed') +\n",
    "    geom_pointrange(mapping = aes(xmin = conf_low, xmax = conf_high)) +\n",
    "    facet_wrap(~ model, ncol = ncol) +\n",
    "    theme_truveta()\n",
    "    \n",
    "  out\n",
    "}\n"
   ]
  },
  {
   "cell_type": "code",
   "execution_count": null,
   "id": "c36d2c0c-605e-4fcf-8ce5-b5d92424dadf",
   "metadata": {},
   "outputs": [],
   "source": [
    "clean_multi_vs_base <- function(emmeans_pairs, conditions, select, column) {\n",
    "  temp <-\n",
    "    emmeans_pairs |>\n",
    "    confint() |>\n",
    "    janitor::clean_names() |>\n",
    "    tidyr::separate(\n",
    "      contrast, \n",
    "      into = c('numerator', 'denominator'), \n",
    "      sep = ' / '\n",
    "    ) |>\n",
    "    dplyr::filter(denominator == '0 0 0 0') |> \n",
    "    tidyr::separate(\n",
    "      numerator, \n",
    "      into = conditions, \n",
    "      sep = ' '\n",
    "    ) |>\n",
    "    dplyr::mutate(\n",
    "      dplyr::across(\n",
    "        lung:ckd, \n",
    "        ~ if_else(.x == 1, deparse(substitute(.x)), NA_character_)\n",
    "      )\n",
    "    ) |>\n",
    "    tidyr::unite(col = 'condition', {{ select }}, sep = ', ', na.rm = TRUE) |>\n",
    "    dplyr::select(condition, {{ column }}, asymp_lcl, asymp_ucl)\n",
    "    \n",
    "  temp\n",
    "}"
   ]
  },
  {
   "cell_type": "markdown",
   "id": "bcbedbf8-cb0e-49cc-ba5f-1a9f0723e311",
   "metadata": {},
   "source": [
    "## Load Data"
   ]
  },
  {
   "cell_type": "code",
   "execution_count": null,
   "id": "886d4e6d-d023-4a36-8a3b-362f336d892c",
   "metadata": {},
   "outputs": [],
   "source": [
    "df <- read_parquet_table(file.path(data_dir, \"feature_table.parquet\"), results_dir)\n",
    "#head(df)"
   ]
  },
  {
   "cell_type": "code",
   "execution_count": null,
   "id": "c406789d-9c87-4afb-9c5b-3907662da8c6",
   "metadata": {},
   "outputs": [],
   "source": [
    "df <- \n",
    "  df |>\n",
    "  dplyr::rename(\n",
    "    age_years = vaccination_years,\n",
    "    age_bracket = vaccination_bracket,\n",
    "    month_year = monitoring_date\n",
    "  ) |>\n",
    "  dplyr::mutate(month_year = as.character(month_year))"
   ]
  },
  {
   "cell_type": "markdown",
   "id": "261224f5-d441-42a9-beee-5ad541f82ef9",
   "metadata": {},
   "source": [
    "## Breakthrough infection"
   ]
  },
  {
   "cell_type": "markdown",
   "id": "ebf2ce43-eca7-447b-8b0d-a0b8f55d693a",
   "metadata": {},
   "source": [
    "### Survival analysis"
   ]
  },
  {
   "cell_type": "code",
   "execution_count": null,
   "id": "b53a526d-3858-4d31-adec-0521a633437c",
   "metadata": {},
   "outputs": [],
   "source": [
    "df_surv <- \n",
    "  df |>\n",
    "  dplyr::select(\n",
    "    outcome_time, \n",
    "    covid, \n",
    "    ckd, \n",
    "    diabetes, \n",
    "    immunocompromised, \n",
    "    lung, \n",
    "    race, \n",
    "    ethnicity, \n",
    "    sex, \n",
    "    age_years,\n",
    "    #age_bracket,\n",
    "    month_year\n",
    "  )"
   ]
  },
  {
   "cell_type": "code",
   "execution_count": null,
   "id": "6a8e264d-9bee-4a47-992a-06a20a33124a",
   "metadata": {},
   "outputs": [],
   "source": [
    "# four way interactions\n",
    "fit_surv_four <- \n",
    "  coxph(\n",
    "    Surv(time = outcome_time, event = covid) ~ \n",
    "      (ckd + diabetes + immunocompromised + lung)^4 + \n",
    "      ns(age_years, df = 5) + . - age_years,\n",
    "    data = df_surv\n",
    "  )"
   ]
  },
  {
   "cell_type": "code",
   "execution_count": null,
   "id": "c2abf6be-3df8-41b2-9c07-21e3296eaac5",
   "metadata": {},
   "outputs": [],
   "source": [
    "# three way interactions\n",
    "fit_surv_three <- \n",
    "  coxph(\n",
    "    Surv(time = outcome_time, event = covid) ~ \n",
    "      (ckd + diabetes + immunocompromised + lung)^3 + \n",
    "      ns(age_years, df = 5) + . - age_years,\n",
    "    data = df_surv\n",
    "  )"
   ]
  },
  {
   "cell_type": "code",
   "execution_count": null,
   "id": "64cd2bd8-961b-4392-8d11-1e127d41938d",
   "metadata": {},
   "outputs": [],
   "source": [
    "# two way interactions\n",
    "fit_surv_two <- \n",
    "  coxph(\n",
    "    Surv(time = outcome_time, event = covid) ~ \n",
    "      (ckd + diabetes + immunocompromised + lung)^2 + \n",
    "      ns(age_years, df = 5) + . - age_years,\n",
    "    data = df_surv\n",
    "  )"
   ]
  },
  {
   "cell_type": "code",
   "execution_count": null,
   "id": "340d9612-c2e6-4022-96da-a36edf297c38",
   "metadata": {},
   "outputs": [],
   "source": [
    "# no interactions\n",
    "fit_surv_base <-\n",
    "  coxph(\n",
    "    Surv(time = outcome_time, event = covid) ~ \n",
    "      ns(age_years, df = 5) + . - age_years,\n",
    "    data = df_surv\n",
    "  )"
   ]
  },
  {
   "cell_type": "markdown",
   "id": "5d9f3ddc-a0cd-415f-8af6-48bd67067055",
   "metadata": {},
   "source": [
    "#### summarize models"
   ]
  },
  {
   "cell_type": "code",
   "execution_count": null,
   "id": "0aedf120-4b90-4132-863b-add421c64459",
   "metadata": {},
   "outputs": [],
   "source": [
    "model_list <- \n",
    "  list(\n",
    "    four_way = fit_surv_four, \n",
    "    three_way = fit_surv_three, \n",
    "    two_way = fit_surv_two, \n",
    "    base = fit_surv_base\n",
    "  )"
   ]
  },
  {
   "cell_type": "code",
   "execution_count": null,
   "id": "9f93123c-e314-4e63-8da8-6ecf1b44db20",
   "metadata": {},
   "outputs": [],
   "source": [
    "summary_table <- make_model_summary(model_list)\n",
    "\n",
    "write_table(summary_table, file.path(results_dir, \"breakthrough_survival_summary_table.csv\"))\n",
    "\n",
    "#summary_table"
   ]
  },
  {
   "cell_type": "code",
   "execution_count": null,
   "id": "4e4138df-a38f-4240-9080-e1883d38a177",
   "metadata": {},
   "outputs": [],
   "source": [
    "break_survival_summary <- \n",
    "  make_summary_graph(summary_table) +\n",
    "  labs(\n",
    "    title = str_wrap('Hazard Ratio of Breakthrough COVID infection associated with comorbidities', 50), \n",
    "    subtitle = 'presented with 95% confidence intervals',\n",
    "    x = 'Hazard Ratio', \n",
    "    y = 'Comorbidity'\n",
    "  )\n",
    "\n",
    "write_ggplot(\n",
    "  break_survival_summary, \n",
    "  file.path(results_dir, \"breakthrough_survival_summary.png\")\n",
    ")\n",
    "\n",
    "break_survival_summary"
   ]
  },
  {
   "cell_type": "code",
   "execution_count": null,
   "id": "61abbd65-737e-4c81-8b6b-6e254a7fcbe0",
   "metadata": {},
   "outputs": [],
   "source": []
  },
  {
   "cell_type": "code",
   "execution_count": null,
   "id": "9d942aef-bda6-4296-b898-969bf2f63fc8",
   "metadata": {
    "tags": []
   },
   "outputs": [],
   "source": [
    "tab_aic <- make_aic_table(model_list)\n",
    "\n",
    "tab_aic_c <- make_aic_table(model_list, aic_c, name = 'AICc')\n",
    "\n",
    "aic_table <- \n",
    "  dplyr::full_join(tab_aic, tab_aic_c, by = 'model') |>\n",
    "  dplyr::mutate(\n",
    "    model = stringr::str_to_title(model),\n",
    "    model = stringr::str_replace(model, '_', '-'),\n",
    "    across(AIC:delta_AICc, ~ round(.x, 2))\n",
    "  ) |>\n",
    "  dplyr::rename(\n",
    "    `Model complexity` = model,\n",
    "    `\\\\delta AIC` = delta_AIC,\n",
    "    `\\\\delta AICc` = delta_AICc\n",
    "  )\n",
    "\n",
    "write_table(aic_table, file.path(results_dir, \"breakthrough_survival_aic_table.csv\"))\n",
    "\n",
    "caption <- 'Comparison between four candidate models of time till breakthrough COVID-19 infection each with varying degrees of interaction between comorbidities.'\n",
    "label <- 'tab:breakthrough_aic'\n",
    "\n",
    "\n",
    "xtable::print.xtable(\n",
    "  xtable::xtable(\n",
    "    as.data.frame(aic_table, make.names = FALSE), \n",
    "    label = label,\n",
    "    caption = caption\n",
    "  ),\n",
    "  type = 'latex', \n",
    "  file = here::here('results', 'breakthrough_survival_aic_table.tex'), \n",
    "  include.rownames = FALSE,\n",
    "  comment = FALSE,\n",
    "  timestamp = NULL,\n",
    "  table.placement = '!htbp'\n",
    ")\n",
    "\n",
    "aic_table"
   ]
  },
  {
   "cell_type": "code",
   "execution_count": null,
   "id": "bf69f3dd-739f-4d00-a321-2055a9a2b66f",
   "metadata": {},
   "outputs": [],
   "source": [
    "# summarize best model\n",
    "\n",
    "summary_fit <- broom::tidy(fit_surv_three, exponentiate = TRUE, conf.int = TRUE)"
   ]
  },
  {
   "cell_type": "code",
   "execution_count": null,
   "id": "2efbd34a-760f-471a-85be-211b94699425",
   "metadata": {},
   "outputs": [],
   "source": [
    "# write summary\n",
    "\n",
    "write_table(summary_fit, file = file.path(results_dir, 'model_summary_survival_breakthrough.csv'))\n",
    "\n",
    "caption <- \n",
    "  paste0(\n",
    "    'Summary of the selected Cox proportaional hazards model of time till breakthrough infection ',\n",
    "    'showing estimates for all of the regression coefficients. Estimates are on the hazard scale (i.e. exponentiated).'\n",
    "  )\n",
    "label <- 'tab:summary_survival_breakthrough'\n",
    "\n",
    "xtable::print.xtable(\n",
    "  xtable::xtable(\n",
    "    as.data.frame(summary_fit, make.names = FALSE), \n",
    "    label = label,\n",
    "    caption = caption\n",
    "  ),\n",
    "  type = 'latex', \n",
    "  file = here::here('results', 'model_summary_survival_breakthrough.tex'), \n",
    "  include.rownames = FALSE,\n",
    "  comment = FALSE,\n",
    "  timestamp = NULL,\n",
    "  table.placement = '!htbp'\n",
    ")"
   ]
  },
  {
   "cell_type": "code",
   "execution_count": null,
   "id": "2d269acc-e45d-49da-a53b-e941e9ab226b",
   "metadata": {
    "tags": []
   },
   "outputs": [],
   "source": [
    "# multi way model effects\n",
    "em <- emmeans(fit_surv_three, ~ (ckd + diabetes + immunocompromised + lung)^3, type = 'response')\n",
    "\n",
    "pp <- pairs(em, reverse = TRUE)\n",
    "\n",
    "surv_multi_hr <- \n",
    "  clean_multi_vs_base(pp, conditions, ckd:lung, ratio) |>\n",
    "  dplyr::mutate(\n",
    "    condition = str_replace_all(condition, 'lung', 'cld'),\n",
    "    condition = str_replace_all(condition, 'immunocompromised', 'immuno.'),\n",
    "    condition = str_replace_all(condition, 'diabetes', 'diab.'),\n",
    "    condition = \n",
    "      case_when(\n",
    "        condition == 'ckd, cld' ~ 'ckd, cld',\n",
    "        condition == 'diab., cld' ~ 'cld, diab.',\n",
    "        condition == 'immuno., cld' ~ 'cld, immuno.',\n",
    "        condition == 'ckd, diab., cld' ~ 'ckd, cld, diab.',\n",
    "        condition == 'ckd, immuno., cld' ~ 'ckd, cld, immuno.',\n",
    "        condition == 'diab., immuno., cld' ~ 'cld, diab., immuno.',\n",
    "        condition == 'ckd, diab., immuno., cld' ~ 'ckd, cld, diab., immuno.',\n",
    "        TRUE ~ condition\n",
    "      ),\n",
    "    condition = \n",
    "      factor(\n",
    "        condition, \n",
    "        levels = \n",
    "          c(\n",
    "            'ckd', \n",
    "            'cld', \n",
    "            'diab.', \n",
    "            'immuno.', \n",
    "            'ckd, cld', \n",
    "            'ckd, diab.', \n",
    "            'ckd, immuno.', \n",
    "            'cld, diab.', \n",
    "            'cld, immuno.',\n",
    "            'diab., immuno.',\n",
    "            'ckd, cld, diab.',\n",
    "            'ckd, diab., immuno.',\n",
    "            'ckd, cld, immuno.',\n",
    "            'cld, diab., immuno.',\n",
    "            'ckd, cld, diab., immuno.'\n",
    "          )\n",
    "      )\n",
    "  )\n"
   ]
  },
  {
   "cell_type": "code",
   "execution_count": null,
   "id": "5a29183d-353f-4908-8a89-c93e9c60e981",
   "metadata": {
    "tags": []
   },
   "outputs": [],
   "source": [
    "temp <- \n",
    "  surv_multi_hr |>\n",
    "  dplyr::mutate(\n",
    "    dplyr::across(ratio:asymp_ucl, ~ round(.x, 2)),\n",
    "    or = paste0(ratio, ' [', asymp_lcl, ', ', asymp_ucl, ']')\n",
    "  ) |> \n",
    "  dplyr::select(condition, or) |>\n",
    "  dplyr::arrange(condition)\n",
    "\n",
    "colnames(temp) <- c('Comorbidities', 'Hazard Ratio [95% CI]')\n",
    "\n",
    "temp\n",
    "\n",
    "write_table(temp, file = file.path(results_dir, 'survival_hazard_breakthrough.csv'))\n",
    "\n",
    "caption <- \n",
    "  paste0(\n",
    "     'Estimated hazard ratios of breakthrough infection associated patients having one ',\n",
    "    'or more of the studied comorbidities copmared to patients who have none of the studied comorbidities. ',\n",
    "    'CKD: chronic kidney disease, CLD: chronic lung disease, Diab.: diabetes, Immuno.: immunocompromised.'\n",
    "  )\n",
    "label <- 'tab:survival_hazard_breakthrough'\n",
    "\n",
    "xtable::print.xtable(\n",
    "  xtable::xtable(\n",
    "    as.data.frame(temp, make.names = FALSE), \n",
    "    label = label,\n",
    "    caption = caption\n",
    "  ),\n",
    "  type = 'latex', \n",
    "  file = here::here('results', 'survival_hazard_breakthrough.tex'), \n",
    "  include.rownames = FALSE,\n",
    "  comment = FALSE,\n",
    "  timestamp = NULL,\n",
    "  table.placement = '!htbp'\n",
    ")"
   ]
  },
  {
   "cell_type": "code",
   "execution_count": null,
   "id": "3d37cd62-5075-48c6-ab36-5b770500ac58",
   "metadata": {
    "tags": []
   },
   "outputs": [],
   "source": [
    "surv_multi_hr_gg <- \n",
    "  surv_multi_hr |>\n",
    "  ggplot(aes(x = ratio, y = condition)) +\n",
    "  geom_vline(xintercept = 1, linetype = 'dashed') +\n",
    "  geom_pointrange(mapping = aes(xmin = asymp_lcl, xmax = asymp_ucl), size = 1.15) +\n",
    "  theme_truveta() +\n",
    "  labs(\n",
    "    title = str_wrap('Hazard ratio of breakthrough COVID-19 infection associated with a combination of comorbidities', 50),\n",
    "    subtitle = 'presented with 95% confidence intervals',\n",
    "    x = 'Hazard Ratio', \n",
    "    y = 'Comorbdities in combination'\n",
    "  )\n",
    "\n",
    "write_ggplot(\n",
    "  surv_multi_hr_gg, \n",
    "  file.path(results_dir, \"breakthrough_survival_hazard_interactions.png\")\n",
    ")\n",
    "\n",
    "surv_multi_hr_gg"
   ]
  },
  {
   "cell_type": "code",
   "execution_count": null,
   "id": "c4d60efd-71ef-4992-afce-f7f041987daa",
   "metadata": {},
   "outputs": [],
   "source": [
    "surv_multi_hr_gg_flip <- \n",
    "  surv_multi_hr_gg + \n",
    "  coord_flip() +\n",
    "  theme(\n",
    "    text = element_text(family = 'Open Sans'),\n",
    "    plot.title = element_text(size = 20),\n",
    "    axis.title = element_text(size = 17.5),\n",
    "    axis.title.x = element_text(hjust = 0),\n",
    "    axis.text.y = element_text(size = 14),\n",
    "    axis.text.x = element_text(size = 14, colour = 'black', angle = 45, vjust = 1, hjust = 1),\n",
    "    plot.caption = element_text(hjust = 0)\n",
    "  ) +\n",
    "  labs(\n",
    "    title = str_wrap('Hazard ratio of breakthrough COVID-19 infection associated with a combination of comorbidities', 55),\n",
    "    caption = glue::glue(\n",
    "        \"ckd  ........... chronic kidney disease\\n\",\n",
    "        \"cld  ............ chronic lung disease\\n\",\n",
    "        \"diab.  ......... diabetes\\n\",\n",
    "        \"immuno.  ... immunocompromised\",\n",
    "    )\n",
    "  ) +\n",
    "  scale_x_continuous(breaks = c(1, 3, 6, 9)) \n",
    "\n",
    "# grid::grid.text(\"xxx\", x = unit(0.91, \"npc\"), y = unit(0.80, \"npc\"))\n",
    "\n",
    "write_ggplot(\n",
    "  surv_multi_hr_gg_flip, \n",
    "  file.path(results_dir, \"breakthrough_survival_hazard_interactions_flip.png\"),\n",
    "  width = 10,\n",
    "  height = 7\n",
    ")\n",
    "\n",
    "surv_multi_hr_gg_flip"
   ]
  },
  {
   "cell_type": "code",
   "execution_count": null,
   "id": "70652e37-de6d-48ea-907e-cf2e77d67424",
   "metadata": {},
   "outputs": [],
   "source": []
  },
  {
   "cell_type": "markdown",
   "id": "1f96e54a-912d-4c1d-b58f-98c35c9299f6",
   "metadata": {},
   "source": [
    "## Hospitalization following breakthrough infection"
   ]
  },
  {
   "cell_type": "markdown",
   "id": "c156b0d0-e4e5-4a85-8d04-e78e1d53c588",
   "metadata": {},
   "source": [
    "### Logistic regression"
   ]
  },
  {
   "cell_type": "code",
   "execution_count": null,
   "id": "5e34f24b-e04d-48dd-8ea0-8f2f144cbe1a",
   "metadata": {},
   "outputs": [],
   "source": [
    "df_hospital <- \n",
    "  df |> \n",
    "  dplyr::filter(covid == 1)"
   ]
  },
  {
   "cell_type": "code",
   "execution_count": null,
   "id": "2517d365-20ff-439e-ae06-d43b91d299ee",
   "metadata": {},
   "outputs": [],
   "source": [
    "df_hospital_logistic <- \n",
    "  df_hospital |>\n",
    "  dplyr::select(\n",
    "    hospital, \n",
    "    ckd, \n",
    "    diabetes, \n",
    "    immunocompromised, \n",
    "    lung, \n",
    "    race, \n",
    "    ethnicity, \n",
    "    sex, \n",
    "    age_years,\n",
    "    #age_bracket,\n",
    "    month_year\n",
    "  )"
   ]
  },
  {
   "cell_type": "code",
   "execution_count": null,
   "id": "1972bdce-00d3-4f3d-8fd9-e01227b44f5b",
   "metadata": {},
   "outputs": [],
   "source": [
    "# four way interactions\n",
    "fit_logi_four <- \n",
    "  glm(\n",
    "    hospital ~ \n",
    "      (ckd + diabetes + immunocompromised + lung)^4 + \n",
    "      ns(age_years, df = 5) + . - age_years,\n",
    "    data = df_hospital_logistic,\n",
    "    family = \"binomial\"\n",
    "  )"
   ]
  },
  {
   "cell_type": "code",
   "execution_count": null,
   "id": "5bdd7641-f35a-40a4-9f81-f9659b1a63a0",
   "metadata": {},
   "outputs": [],
   "source": [
    "# three way interactions\n",
    "fit_logi_three <- \n",
    "  glm(\n",
    "    hospital ~ \n",
    "      (ckd + diabetes + immunocompromised + lung)^3 + \n",
    "      ns(age_years, df = 5) + . - age_years,\n",
    "    data = df_hospital_logistic,\n",
    "    family = \"binomial\"\n",
    "  )"
   ]
  },
  {
   "cell_type": "code",
   "execution_count": null,
   "id": "63155384-fa83-43db-9478-0f08015ad623",
   "metadata": {},
   "outputs": [],
   "source": [
    "# two way interactions\n",
    "fit_logi_two <- \n",
    "  glm(\n",
    "    hospital ~ \n",
    "      (ckd + diabetes + immunocompromised + lung)^2 + \n",
    "      ns(age_years, df = 5) + . - age_years,\n",
    "    data = df_hospital_logistic,\n",
    "    family = \"binomial\"\n",
    "  )"
   ]
  },
  {
   "cell_type": "code",
   "execution_count": null,
   "id": "7e4d8549-ccf4-467c-b203-eff3eec58666",
   "metadata": {},
   "outputs": [],
   "source": [
    "# two way interactions\n",
    "fit_logi_base <- \n",
    "  glm(\n",
    "    hospital ~ ns(age_years, df = 5) + . - age_years,\n",
    "    data = df_hospital_logistic,\n",
    "    family = \"binomial\"\n",
    "  )"
   ]
  },
  {
   "cell_type": "code",
   "execution_count": null,
   "id": "e34fca46-d7de-4883-a177-19042c174a83",
   "metadata": {},
   "outputs": [],
   "source": []
  },
  {
   "cell_type": "markdown",
   "id": "fb2ed370-965b-4a4d-a521-2eb5a07e9489",
   "metadata": {},
   "source": [
    "#### summarize models"
   ]
  },
  {
   "cell_type": "code",
   "execution_count": null,
   "id": "6d5dacc0-2c5d-43c6-b9b6-d0e402a07618",
   "metadata": {},
   "outputs": [],
   "source": [
    "model_list <- \n",
    "  list(\n",
    "    four_way = fit_logi_four,\n",
    "    three_way = fit_logi_three,\n",
    "    two_way = fit_logi_two, \n",
    "    base = fit_logi_base\n",
    "  )"
   ]
  },
  {
   "cell_type": "code",
   "execution_count": null,
   "id": "9d7cf8b1-46aa-4fe5-bc3f-166599f6529a",
   "metadata": {},
   "outputs": [],
   "source": [
    "summary_table <- make_model_summary(model_list)\n",
    "\n",
    "write_table(summary_table, file.path(results_dir, \"hospital_logistic_summary_table.csv\"))\n",
    "\n",
    "#summary_table"
   ]
  },
  {
   "cell_type": "code",
   "execution_count": null,
   "id": "f6f02a54-0df1-4f96-bf20-03350d708b6a",
   "metadata": {},
   "outputs": [],
   "source": [
    "hospital_logistic_summary <- \n",
    "  make_summary_graph(summary_table) +\n",
    "  labs(\n",
    "    title = str_wrap('Odds ratio of hospitalization following breakthrough COVID infection associated with comorbidities', 40),\n",
    "    subtitle = 'presented with 95% confidence intervals',\n",
    "    x = 'Odds Ratio', \n",
    "    y = 'Comorbidity'\n",
    "  )\n",
    "\n",
    "write_ggplot(\n",
    "  hospital_logistic_summary, \n",
    "  file.path(results_dir, \"hospital_logistic_summary.png\")\n",
    ")\n",
    "\n",
    "hospital_logistic_summary"
   ]
  },
  {
   "cell_type": "code",
   "execution_count": null,
   "id": "6afb5e37-da69-40df-a98e-5651cf2f8409",
   "metadata": {},
   "outputs": [],
   "source": []
  },
  {
   "cell_type": "code",
   "execution_count": null,
   "id": "ab465db0-d6c2-4b6c-a306-9ee5bf76ffbe",
   "metadata": {},
   "outputs": [],
   "source": [
    "tab_aic <- make_aic_table(model_list)\n",
    "\n",
    "tab_aic_c <- make_aic_table(model_list, aic_c, name = 'AICc')\n",
    "\n",
    "aic_table <- \n",
    "  dplyr::full_join(tab_aic, tab_aic_c, by = 'model') |>\n",
    "  dplyr::mutate(\n",
    "    model = stringr::str_to_title(model),\n",
    "    model = stringr::str_replace(model, '_', '-'),\n",
    "    across(AIC:delta_AICc, ~ round(.x, 2))\n",
    "  ) |>\n",
    "  dplyr::rename(\n",
    "    `Model complexity` = model,\n",
    "    `\\\\delta AIC` = delta_AIC,\n",
    "    `\\\\delta AICc` = delta_AICc\n",
    "  )\n",
    "\n",
    "write_table(aic_table, file.path(results_dir, \"hospital_logistic_aic_table.csv\"))\n",
    "\n",
    "\n",
    "caption <- \n",
    "  paste0(\n",
    "    'Comparison between four candidate models of probability of hospitalization following ',\n",
    "    'breakthrough COVID-19 infection each with varying degrees of interaction between comorbidities.'\n",
    "  )\n",
    "label <- 'tab:hospital_aic'\n",
    "\n",
    "\n",
    "xtable::print.xtable(\n",
    "  xtable::xtable(\n",
    "    as.data.frame(aic_table, make.names = FALSE), \n",
    "    label = label,\n",
    "    caption = caption\n",
    "  ),\n",
    "  type = 'latex', \n",
    "  file = here::here('results', 'hospital_logistic_aic_table.tex'), \n",
    "  include.rownames = FALSE,\n",
    "  comment = FALSE,\n",
    "  timestamp = NULL,\n",
    "  table.placement = '!htbp'\n",
    ")\n",
    "\n",
    "aic_table"
   ]
  },
  {
   "cell_type": "code",
   "execution_count": null,
   "id": "aa5ec5d5-5882-4b00-ba6d-e90e19fd639c",
   "metadata": {},
   "outputs": [],
   "source": [
    "# summarize \"best\" model\n",
    "\n",
    "summary_fit <- broom::tidy(fit_logi_base, exponentiate = TRUE, conf.int = TRUE)"
   ]
  },
  {
   "cell_type": "code",
   "execution_count": null,
   "id": "34715f11-a3ee-45ce-8fd0-bd5b78188f2b",
   "metadata": {},
   "outputs": [],
   "source": [
    "# write summary\n",
    "\n",
    "write_table(summary_fit, file = file.path(results_dir, 'model_summary_logistic_hospital.csv'))\n",
    "\n",
    "caption <- \n",
    "  paste0(\n",
    "    'Summary of the selected logistic regression model of hospitalization following breakthrough ',\n",
    "    'infection showing estimates for all of the regression coefficients. Estimates are on the odds scale (i.e. exponentiated).'\n",
    "  )\n",
    "label <- 'tab:summary_logistic_hospital'\n",
    "\n",
    "xtable::print.xtable(\n",
    "  xtable::xtable(\n",
    "    as.data.frame(summary_fit, make.names = FALSE), \n",
    "    label = label,\n",
    "    caption = caption\n",
    "  ),\n",
    "  type = 'latex', \n",
    "  file = here::here('results', 'model_summary_logistic_hospital.tex'), \n",
    "  include.rownames = FALSE,\n",
    "  comment = FALSE,\n",
    "  timestamp = NULL,\n",
    "  table.placement = '!htbp'\n",
    ")"
   ]
  },
  {
   "cell_type": "code",
   "execution_count": null,
   "id": "8afddfeb-8fd9-47b7-8e24-fbb0f3a16183",
   "metadata": {},
   "outputs": [],
   "source": [
    "# multi way model effects\n",
    "em <- emmeans(fit_logi_base, ~ (ckd + diabetes + immunocompromised + lung), type = 'response')\n",
    "\n",
    "pp <- pairs(em, reverse = TRUE)"
   ]
  },
  {
   "cell_type": "code",
   "execution_count": null,
   "id": "084d0bb5-4314-4be1-8fb7-bd044bc3bc86",
   "metadata": {
    "tags": []
   },
   "outputs": [],
   "source": [
    "logi_multi_or <- \n",
    "  clean_multi_vs_base(pp, conditions, ckd:lung, odds_ratio) |>\n",
    "  dplyr::mutate(\n",
    "    condition = str_replace_all(condition, 'lung', 'cld'),\n",
    "    condition = str_replace_all(condition, 'immunocompromised', 'immuno.'),\n",
    "    condition = str_replace_all(condition, 'diabetes', 'diab.'),\n",
    "    condition = \n",
    "      case_when(\n",
    "        condition == 'ckd, cld' ~ 'ckd, cld',\n",
    "        condition == 'diab., cld' ~ 'cld, diab.',\n",
    "        condition == 'immuno., cld' ~ 'cld, immuno.',\n",
    "        condition == 'ckd, diab., cld' ~ 'ckd, cld, diab.',\n",
    "        condition == 'ckd, immuno., cld' ~ 'ckd, cld, immuno.',\n",
    "        condition == 'diab., immuno., cld' ~ 'cld, diab., immuno.',\n",
    "        condition == 'ckd, diab., immuno., cld' ~ 'ckd, cld, diab., immuno.',\n",
    "        TRUE ~ condition\n",
    "      ),\n",
    "    condition = \n",
    "      factor(\n",
    "        condition, \n",
    "        levels = \n",
    "          c(\n",
    "            'ckd', \n",
    "            'cld', \n",
    "            'diab.', \n",
    "            'immuno.', \n",
    "            'ckd, cld', \n",
    "            'ckd, diab.', \n",
    "            'ckd, immuno.', \n",
    "            'cld, diab.', \n",
    "            'cld, immuno.',\n",
    "            'diab., immuno.',\n",
    "            'ckd, cld, diab.',\n",
    "            'ckd, diab., immuno.',\n",
    "            'ckd, cld, immuno.',\n",
    "            'cld, diab., immuno.',\n",
    "            'ckd, cld, diab., immuno.'\n",
    "          )\n",
    "      )\n",
    "  )"
   ]
  },
  {
   "cell_type": "code",
   "execution_count": null,
   "id": "47f1941a-0b78-488b-a664-4905613e5cfc",
   "metadata": {
    "tags": []
   },
   "outputs": [],
   "source": [
    "head(logi_multi_or)"
   ]
  },
  {
   "cell_type": "code",
   "execution_count": null,
   "id": "0d594f05-922d-4942-b7c6-7217fc3792fb",
   "metadata": {
    "tags": []
   },
   "outputs": [],
   "source": [
    "temp <- \n",
    "  logi_multi_or |>\n",
    "  dplyr::mutate(\n",
    "    dplyr::across(odds_ratio:asymp_ucl, ~ round(.x, 2)),\n",
    "    or = paste0(odds_ratio, ' [', asymp_lcl, ', ', asymp_ucl, ']')\n",
    "  ) |> \n",
    "  dplyr::select(condition, or) |>\n",
    "  dplyr::arrange(condition)\n",
    "\n",
    "colnames(temp) <- c('Comorbidities', 'Odds Ratio [95% CI]')\n",
    "\n",
    "temp\n",
    "\n",
    "write_table(temp, file = file.path(results_dir, 'logistic_odds_hospital.csv'))\n",
    "\n",
    "caption <- \n",
    "  paste0(\n",
    "    'Estimated odds ratios of hospitalization associated patients having one or more of the studied ',\n",
    "    'comorbidities copmared to patients who have none of the studied comorbidities. ',\n",
    "    'CKD: chronic kidney disease, CLD: chronic lung disease, Diab.: diabetes, Immuno.: immunocompromised.'\n",
    "  )\n",
    "label <- 'tab:logistic_odds_hospital'\n",
    "\n",
    "xtable::print.xtable(\n",
    "  xtable::xtable(\n",
    "    as.data.frame(temp, make.names = FALSE), \n",
    "    label = label,\n",
    "    caption = caption\n",
    "  ),\n",
    "  type = 'latex', \n",
    "  file = here::here('results', 'logistic_odds_hospital.tex'), \n",
    "  include.rownames = FALSE,\n",
    "  comment = FALSE,\n",
    "  timestamp = NULL,\n",
    "  table.placement = '!htbp'\n",
    ")"
   ]
  },
  {
   "cell_type": "code",
   "execution_count": null,
   "id": "0ec44920-8462-4a52-b929-eb1bea1b139c",
   "metadata": {},
   "outputs": [],
   "source": [
    "logi_multi_or_gg <- \n",
    "  logi_multi_or |>\n",
    "  ggplot(aes(x = odds_ratio, y = condition)) +\n",
    "  geom_vline(xintercept = 1, linetype = 'dashed') +\n",
    "  geom_pointrange(mapping = aes(xmin = asymp_lcl, xmax = asymp_ucl), size = 1.15) +\n",
    "  theme_truveta() +\n",
    "  labs(\n",
    "    title = str_wrap('Odds ratio of hospitalization following COVID-19 infection associated with a combination of comorbidities', 50),\n",
    "    subtitle = 'presented with 95% confidence intervals',\n",
    "    x = 'Odds Ratio', \n",
    "    y = 'Comorbdities in combination'\n",
    "  )\n",
    "\n",
    "write_ggplot(\n",
    "  logi_multi_or_gg, \n",
    "  file.path(results_dir, \"hospital_logistic_odds_interactions.png\")\n",
    ")\n",
    "\n",
    "logi_multi_or_gg"
   ]
  },
  {
   "cell_type": "code",
   "execution_count": null,
   "id": "39d75261-6e83-4e1e-9f60-b3211d616c2f",
   "metadata": {},
   "outputs": [],
   "source": [
    "logi_multi_or_gg_flip <-\n",
    "  logi_multi_or_gg + \n",
    "  coord_flip() +\n",
    "  theme(\n",
    "    text = element_text(family = 'Open Sans'),\n",
    "    plot.title = element_text(size = 20),\n",
    "    axis.title = element_text(size = 17.5),\n",
    "    axis.title.x = element_text(hjust = 0),\n",
    "    axis.text.y = element_text(size = 14),\n",
    "    axis.text.x = element_text(size = 14, colour = 'black', angle = 45, vjust = 1, hjust = 1),\n",
    "    plot.caption = element_text(hjust = 0)\n",
    "  ) +\n",
    "  labs(\n",
    "    title = str_wrap('Odds ratio of hospitalization following COVID-19 infection associated with a combination of comorbidities', 65),\n",
    "    caption = glue::glue(\n",
    "        \"ckd  ........... chronic kidney disease\\n\",\n",
    "        \"cld  ............ chronic lung disease\\n\",\n",
    "        \"diab.  ......... diabetes\\n\",\n",
    "        \"immuno.  ... immunocompromised\",\n",
    "    )\n",
    "  ) +\n",
    "  scale_x_continuous(breaks = c(1, 3, 6, 9, 12))\n",
    "\n",
    "write_ggplot(\n",
    "  logi_multi_or_gg_flip, \n",
    "  file.path(results_dir, \"hospital_logistic_odds_interactions_flip.png\"),\n",
    "  width = 10,\n",
    "  height = 7\n",
    ")\n",
    "\n",
    "logi_multi_or_gg_flip"
   ]
  },
  {
   "cell_type": "code",
   "execution_count": null,
   "id": "34731550-9256-4f45-a09f-484105b3f5f9",
   "metadata": {},
   "outputs": [],
   "source": []
  }
 ],
 "metadata": {
  "kernelspec": {
   "display_name": "R",
   "language": "R",
   "name": "ir"
  },
  "language_info": {
   "codemirror_mode": "r",
   "file_extension": ".r",
   "mimetype": "text/x-r-source",
   "name": "R",
   "pygments_lexer": "r",
   "version": "4.1.3"
  }
 },
 "nbformat": 4,
 "nbformat_minor": 5
}
