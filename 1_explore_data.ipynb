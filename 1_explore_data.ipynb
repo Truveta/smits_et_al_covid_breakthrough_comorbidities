{
 "cells": [
  {
   "cell_type": "markdown",
   "id": "32453a16-f639-477e-b487-0acafad1e643",
   "metadata": {},
   "source": [
    "# Visualize Data"
   ]
  },
  {
   "cell_type": "code",
   "execution_count": null,
   "id": "692db183-7f9f-4d1a-a0dd-b947d726180e",
   "metadata": {
    "vscode": {
     "languageId": "r"
    }
   },
   "outputs": [],
   "source": [
    "library(arrow, warn.conflicts = FALSE)\n",
    "library(dplyr, warn.conflicts = FALSE)\n",
    "library(ggplot2)\n",
    "library(scales)\n",
    "library(survival)\n",
    "library(survminer, quietly = TRUE, warn.conflicts = FALSE)\n",
    "library(table1, warn.conflicts = FALSE)"
   ]
  },
  {
   "cell_type": "code",
   "execution_count": null,
   "id": "e8490f5f-1914-429e-8dcd-1ebe1dfb6252",
   "metadata": {
    "vscode": {
     "languageId": "r"
    }
   },
   "outputs": [],
   "source": [
    "library(truveta.research)"
   ]
  },
  {
   "cell_type": "code",
   "execution_count": null,
   "id": "3ec107a4-0e32-4012-a921-9ff55c52129c",
   "metadata": {},
   "outputs": [],
   "source": [
    "source(here::here(\"wrangle_scripts\", \"R\", \"_.R\"))"
   ]
  },
  {
   "cell_type": "code",
   "execution_count": null,
   "id": "14423e28-31ba-47f8-9dc5-2b9230e31e63",
   "metadata": {
    "vscode": {
     "languageId": "r"
    }
   },
   "outputs": [],
   "source": [
    "results_dir <- here::here(\"results\")\n",
    "data_dir <- here::here(\"data\")\n",
    "dir.create(data_dir, recursive = TRUE, showWarnings = FALSE)"
   ]
  },
  {
   "cell_type": "code",
   "execution_count": null,
   "id": "4cf76717-1b0b-486e-ad03-f2e9f75fb116",
   "metadata": {
    "vscode": {
     "languageId": "r"
    }
   },
   "outputs": [],
   "source": [
    "initialize_theme_truveta(figsize = c(8, 8))"
   ]
  },
  {
   "cell_type": "markdown",
   "id": "bde3233b-d616-4172-afc7-9b56ce391518",
   "metadata": {},
   "source": [
    "## Load Data"
   ]
  },
  {
   "cell_type": "code",
   "execution_count": null,
   "id": "43c89bf3-6aa2-4eee-8a46-56b31b079840",
   "metadata": {
    "vscode": {
     "languageId": "r"
    }
   },
   "outputs": [],
   "source": [
    "df <- read_parquet_table(file.path(data_dir, \"feature_table.parquet\"), results_dir)\n",
    "head(df)"
   ]
  },
  {
   "cell_type": "code",
   "execution_count": null,
   "id": "fc9eebfb-abab-4eb1-b67a-7e7b5b616689",
   "metadata": {},
   "outputs": [],
   "source": [
    "colnames(df)"
   ]
  },
  {
   "cell_type": "code",
   "execution_count": null,
   "id": "bb1b7103-f15d-4940-b632-465a3889aa9c",
   "metadata": {},
   "outputs": [],
   "source": [
    "temp_df <-\n",
    "  df |> \n",
    "  dplyr::mutate(\n",
    "    dplyr::across(\n",
    "      ckd:lung, ~ if_else(.x == 1, deparse(substitute(.x)), NA_character_)\n",
    "    ),\n",
    "    comorbid_free = \n",
    "      dplyr::if_else(\n",
    "        is.na(ckd) & is.na(diabetes) & is.na(immunocompromised) & is.na(lung), \n",
    "        'None of the studied comorbidities', \n",
    "        NA_character_\n",
    "      )\n",
    "  )\n",
    "\n",
    "\n",
    "key_values <- \n",
    "  tibble(\n",
    "    n_ckd = sum(df$ckd),\n",
    "    n_diabetes = sum(df$diabetes),\n",
    "    n_immunocompromised = sum(df$immunocompromised),\n",
    "    n_lung = sum(df$lung),\n",
    "    n_comorbid_free = sum(!is.na(temp_df$comorbid_free)),\n",
    "    n_person = dplyr::n_distinct(df$person_id)\n",
    "  )\n",
    "\n",
    "\n",
    "key_values\n",
    "\n",
    "write.csv(key_values, file = file.path(results_dir, 'summary_stats.csv'))"
   ]
  },
  {
   "cell_type": "code",
   "execution_count": null,
   "id": "d37d66f7-3814-4a7e-abbc-a8ac51eae7b5",
   "metadata": {},
   "outputs": [],
   "source": [
    "comorbid_outcome_summarize <- function(df, comorbid) {\n",
    "  out <- \n",
    "    df |> \n",
    "    dplyr::filter({{ comorbid }} == 1) |>\n",
    "    dplyr::summarize(\n",
    "      n = n(),\n",
    "      breakthrough = sum(covid),\n",
    "      breakthrough_percent = paste0(breakthrough / n() * 100),\n",
    "      hospital = sum(hospital),\n",
    "      hospital_percent = paste0(hospital / breakthrough * 100)\n",
    "    )\n",
    "\n",
    "  out\n",
    "}\n",
    "\n",
    "\n",
    "\n",
    "outcome_summary <- \n",
    "  list(\n",
    "    ckd = comorbid_outcome_summarize(df, ckd),\n",
    "    diabetes = comorbid_outcome_summarize(df, diabetes),\n",
    "    immunocompromised = comorbid_outcome_summarize(df, immunocompromised),\n",
    "    lung = comorbid_outcome_summarize(df, lung),\n",
    "    comorbid_free = \n",
    "      temp_df |>\n",
    "      dplyr::filter(!is.na(comorbid_free)) |>\n",
    "      dplyr::summarize(\n",
    "        n = n(),\n",
    "        breakthrough = sum(covid),\n",
    "        breakthrough_percent = paste0(breakthrough / n() * 100),\n",
    "        hospital = sum(hospital),\n",
    "        hospital_percent = paste0(hospital / breakthrough * 100)\n",
    "      )\n",
    "  )\n",
    "\n",
    "\n",
    "save(outcome_summary, file = file.path(results_dir, 'outcome_summary.rdata'))"
   ]
  },
  {
   "cell_type": "markdown",
   "id": "e06cda0f-5cd4-42d3-b954-62e8fb786caa",
   "metadata": {},
   "source": [
    "## Table 1"
   ]
  },
  {
   "cell_type": "code",
   "execution_count": null,
   "id": "f796b060-0198-4fb5-8c69-19aa8c967886",
   "metadata": {},
   "outputs": [],
   "source": [
    "df_tab_covid <- \n",
    "  df |> \n",
    "  dplyr::select(\n",
    "    sex, \n",
    "    race, \n",
    "    ethnicity, \n",
    "    vaccination_years, \n",
    "    vaccination_bracket, \n",
    "    ckd, \n",
    "    diabetes, \n",
    "    immunocompromised, \n",
    "    lung, \n",
    "    covid, \n",
    "    hospital\n",
    "  ) |>\n",
    "  dplyr::mutate(\n",
    "    dplyr::across(\n",
    "      ckd:lung, ~ if_else(.x == 1, deparse(substitute(.x)), NA_character_)\n",
    "    ),\n",
    "    covid = dplyr::if_else(covid == 1, 'Breakthrough COVID', 'No breakthrough'),\n",
    "    hospital = dplyr::if_else(hospital == 1, 'Hospitalized', 'Not hospitalized'),\n",
    "    comorbid_free = \n",
    "      dplyr::if_else(\n",
    "        is.na(ckd) & is.na(diabetes) & is.na(immunocompromised) & is.na(lung), \n",
    "        'None of the studied comorbidities', \n",
    "        NA_character_\n",
    "      )\n",
    "  )"
   ]
  },
  {
   "cell_type": "code",
   "execution_count": null,
   "id": "52ab0804-63ac-4550-9240-95f1a8c7c9c8",
   "metadata": {},
   "outputs": [],
   "source": [
    "label(df_tab_covid$sex) <- 'Sex'\n",
    "label(df_tab_covid$race) <- 'Race'\n",
    "label(df_tab_covid$ethnicity) <- 'Ethnicity'\n",
    "label(df_tab_covid$vaccination_years) <- 'Age'\n",
    "label(df_tab_covid$vaccination_bracket) <- 'Age bracket'\n",
    "label(df_tab_covid$ckd) <- 'Chronic kidney disease'\n",
    "label(df_tab_covid$diabetes) <- 'Diabetes'\n",
    "label(df_tab_covid$immunocompromised) <- 'Immunocompromised'\n",
    "label(df_tab_covid$lung) <- 'Chronic lung disease'\n",
    "label(df_tab_covid$covid) <- 'Breakthrough COVID-19 infection'\n",
    "label(df_tab_covid$hospital) <- 'Hospitalization following breakthrough'\n",
    "\n",
    "units(df_tab_covid$vaccination_years) <- 'years'\n",
    "\n",
    "tab_covid_ckd <- \n",
    "  table1(\n",
    "    ~ sex + \n",
    "      race + \n",
    "      ethnicity + \n",
    "      vaccination_years + \n",
    "      vaccination_bracket +\n",
    "      covid + \n",
    "      hospital | \n",
    "      ckd, \n",
    "    data = df_tab_covid\n",
    "  )\n",
    "\n",
    "tab_covid_diabetes <- \n",
    "  table1(\n",
    "    ~ sex + \n",
    "      race + \n",
    "      ethnicity + \n",
    "      vaccination_years + \n",
    "      vaccination_bracket +\n",
    "      covid + \n",
    "      hospital | \n",
    "      diabetes, \n",
    "    data = df_tab_covid\n",
    "  )\n",
    "\n",
    "tab_covid_immuno <- \n",
    "  table1(\n",
    "    ~ sex + \n",
    "      race + \n",
    "      ethnicity + \n",
    "      vaccination_years + \n",
    "      vaccination_bracket +\n",
    "      covid + \n",
    "      hospital | \n",
    "      immunocompromised, \n",
    "    data = df_tab_covid\n",
    "  )\n",
    "\n",
    "tab_covid_lung <- \n",
    "  table1(\n",
    "    ~ sex + \n",
    "      race + \n",
    "      ethnicity + \n",
    "      vaccination_years + \n",
    "      vaccination_bracket +\n",
    "      covid + \n",
    "      hospital | \n",
    "      lung, \n",
    "    data = df_tab_covid\n",
    "  )\n",
    "\n",
    "tab_covid_free <- \n",
    "  table1(\n",
    "    ~ sex + \n",
    "      race + \n",
    "      ethnicity + \n",
    "      vaccination_years + \n",
    "      vaccination_bracket +\n",
    "      covid + \n",
    "      hospital | \n",
    "      comorbid_free, \n",
    "    data = df_tab_covid\n",
    "  )\n",
    "\n",
    "\n",
    "tab_elements <- \n",
    "  list(\n",
    "    ckd = tab_covid_ckd, \n",
    "    diabetes = tab_covid_diabetes, \n",
    "    immunocompromised = tab_covid_immuno,\n",
    "    lung = tab_covid_lung,\n",
    "    free = tab_covid_free\n",
    "  )\n",
    "\n",
    "f_reduce <- \\(x, ...) Reduce(..., x)\n",
    "\n",
    "tab_1 <- \n",
    "  Map(\n",
    "    \\(x) {\n",
    "      x <- as_tibble(x)\n",
    "      colnames(x)[1] <- 'variable'\n",
    "      x \n",
    "    }, \n",
    "    tab_elements\n",
    "  ) |>\n",
    "  f_reduce(\n",
    "    \\(x, y) inner_join(x, y, by = c('variable' = 'variable', 'Overall' = 'Overall'))\n",
    "  ) |> \n",
    "  dplyr::relocate(Overall, .after = everything()) |> \n",
    "  dplyr::relocate(lung, .after = ckd) |>\n",
    "  dplyr::rename(\n",
    "    ` ` = variable,\n",
    "    `Chronic kidney disease` = ckd,\n",
    "    `Diabetes` = diabetes,\n",
    "    `Immunocompromised` = immunocompromised,\n",
    "    `Chronic lung disease` = lung\n",
    "  )\n",
    "\n",
    "\n",
    "write_table(tab_1, file.path(results_dir, 'table_1.csv'))\n",
    "\n",
    "\n",
    "write_table_1(\n",
    "  tab_1, file.path(results_dir, 'table_1.tex'), \n",
    "  caption = 'Overall summary statistics of our analyzed population of patients who have completed there primary COVID-19 vaccination sequence.',\n",
    "  label = 'tab:table_1'\n",
    ")\n",
    "\n",
    "head(tab_1)"
   ]
  },
  {
   "cell_type": "code",
   "execution_count": null,
   "id": "a89b3ce9-c91d-4a62-bc0b-47ac90f1ea61",
   "metadata": {},
   "outputs": [],
   "source": [
    "tab_covid_ckd_short <- \n",
    "  table1(\n",
    "    ~ covid + \n",
    "      hospital | \n",
    "      ckd, \n",
    "    data = df_tab_covid\n",
    "  )\n",
    "\n",
    "tab_covid_diabetes_short <- \n",
    "  table1(\n",
    "    ~ covid + \n",
    "      hospital | \n",
    "      diabetes, \n",
    "    data = df_tab_covid\n",
    "  )\n",
    "\n",
    "tab_covid_immuno_short <- \n",
    "  table1(\n",
    "    ~ covid + \n",
    "      hospital | \n",
    "      immunocompromised, \n",
    "    data = df_tab_covid\n",
    "  )\n",
    "\n",
    "tab_covid_lung_short <- \n",
    "  table1(\n",
    "    ~ covid + \n",
    "      hospital | \n",
    "      lung, \n",
    "    data = df_tab_covid\n",
    "  )\n",
    "\n",
    "tab_covid_free_short <- \n",
    "  table1(\n",
    "    ~ covid + \n",
    "      hospital | \n",
    "      comorbid_free, \n",
    "    data = df_tab_covid\n",
    "  )\n",
    "\n",
    "\n",
    "tab_elements_short <- \n",
    "  list(\n",
    "    ckd = tab_covid_ckd_short, \n",
    "    diabetes = tab_covid_diabetes_short, \n",
    "    immunocompromised = tab_covid_immuno_short,\n",
    "    lung = tab_covid_lung_short,\n",
    "    free = tab_covid_free_short\n",
    "  )\n",
    "\n",
    "\n",
    "tab_1_short <- \n",
    "  Map(\n",
    "    \\(x) {\n",
    "      x <- as_tibble(x)\n",
    "      colnames(x)[1] <- 'variable'\n",
    "      x \n",
    "    }, \n",
    "    tab_elements_short\n",
    "  ) |>\n",
    "  f_reduce(\n",
    "    \\(x, y) inner_join(x, y, by = c('variable' = 'variable', 'Overall' = 'Overall'))\n",
    "  ) |> \n",
    "  dplyr::relocate(Overall, .after = everything()) |> \n",
    "  dplyr::relocate(lung, .after = ckd) |>\n",
    "  dplyr::rename(\n",
    "    ` ` = variable,\n",
    "    `Chronic kidney disease` = ckd,\n",
    "    `Diabetes` = diabetes,\n",
    "    `Immunocompromised` = immunocompromised,\n",
    "    `Chronic lung disease` = lung\n",
    "  )\n",
    "\n",
    "tab_1_short\n",
    "\n",
    "write_table_1(\n",
    "  tab_1_short, file.path(results_dir, 'table_1_short.tex'), \n",
    "  caption = 'Overall summary statistics of our analyzed population of patients who have completed there primary COVID-19 vaccination sequence.',\n",
    "  label = 'tab:table_1_short'\n",
    ")\n",
    "\n",
    "write.csv(\n",
    "  as.data.frame(tab_1_short, make.names = FALSE),\n",
    "  file = file.path(results_dir, 'tab_1_short.csv'),\n",
    "  row.names = FALSE\n",
    ")"
   ]
  },
  {
   "cell_type": "markdown",
   "id": "5dafb69a-9de8-499e-ac7a-fda14c8c298b",
   "metadata": {},
   "source": [
    "## Demographics"
   ]
  },
  {
   "cell_type": "code",
   "execution_count": null,
   "id": "84bb695d-b593-4a31-9ad7-5c92d42c3f5d",
   "metadata": {},
   "outputs": [],
   "source": [
    "g <- \n",
    "  ggplot(df, aes(x = vaccination_years)) +\n",
    "  geom_histogram(bins = 50) +\n",
    "  labs(title = \"Age\", x = \"Age (years)\") +\n",
    "  theme_truveta()\n",
    "\n",
    "write_ggplot(g, file.path(results_dir, \"age_continuous.png\"))\n",
    "\n",
    "g"
   ]
  },
  {
   "cell_type": "code",
   "execution_count": null,
   "id": "f1178303-f19b-491b-9047-5a3b1380ea3e",
   "metadata": {
    "vscode": {
     "languageId": "r"
    }
   },
   "outputs": [],
   "source": [
    "g <- \n",
    "  ggplot(df, aes(x = vaccination_bracket)) +\n",
    "  geom_bar() +\n",
    "  labs(title = \"Age Groups\", x = \"Age bracket\") +\n",
    "  theme_truveta()\n",
    "\n",
    "write_ggplot(g, file.path(results_dir, \"age_groups.png\"))\n",
    "\n",
    "g"
   ]
  },
  {
   "cell_type": "code",
   "execution_count": null,
   "id": "126e0aac",
   "metadata": {
    "vscode": {
     "languageId": "r"
    }
   },
   "outputs": [],
   "source": [
    "g <- \n",
    "  ggplot(df, aes(x = sex)) +\n",
    "  geom_bar() +\n",
    "  labs(title = \"Sex\") +\n",
    "  theme_truveta()\n",
    "\n",
    "write_ggplot(g, file.path(results_dir, \"sex.png\"))\n",
    "\n",
    "g"
   ]
  },
  {
   "cell_type": "code",
   "execution_count": null,
   "id": "fd92f49b-191b-4530-b750-298d24dae675",
   "metadata": {
    "vscode": {
     "languageId": "r"
    }
   },
   "outputs": [],
   "source": [
    "df_temp <-\n",
    "  df |>\n",
    "  dplyr::mutate(race = stringr::str_wrap(race, 20))\n",
    "\n",
    "g <- \n",
    "  ggplot(df_temp, aes(x = race)) +\n",
    "  geom_bar() +\n",
    "  labs(title = \"Race\") +\n",
    "  theme_truveta() +\n",
    "  scale_x_discrete(guide = guide_axis(angle = 45))\n",
    "\n",
    "write_ggplot(g, file.path(results_dir, \"race.png\"))\n",
    "\n",
    "g"
   ]
  },
  {
   "cell_type": "code",
   "execution_count": null,
   "id": "864a290a-8bc1-490c-a5e4-4df343af9c0f",
   "metadata": {
    "vscode": {
     "languageId": "r"
    }
   },
   "outputs": [],
   "source": [
    "g <- \n",
    "  ggplot(df, aes(x = ethnicity)) +\n",
    "  geom_bar() +\n",
    "  labs(title = \"Ethnicity\") +\n",
    "  theme_truveta()\n",
    "\n",
    "write_ggplot(g, file.path(results_dir, \"ethncity.png\"))\n",
    "\n",
    "g"
   ]
  },
  {
   "cell_type": "markdown",
   "id": "16749ef1-9aaa-4c5e-9c81-ce15ac309a35",
   "metadata": {},
   "source": [
    "### Month-Year"
   ]
  },
  {
   "cell_type": "code",
   "execution_count": null,
   "id": "405d16b7-68ca-45d7-b906-f23f59bc9a9c",
   "metadata": {},
   "outputs": [],
   "source": [
    "month_year_count <- \n",
    "  df |> \n",
    "  dplyr::group_by(monitoring_date) |> \n",
    "  dplyr::count() |> \n",
    "  dplyr::ungroup() |>\n",
    "  dplyr::mutate(n_log = log(n))"
   ]
  },
  {
   "cell_type": "code",
   "execution_count": null,
   "id": "62364587-23a7-4d6f-b6e5-2dfcf10362d5",
   "metadata": {},
   "outputs": [],
   "source": [
    "df |> \n",
    "  dplyr::group_by(monitoring_date) |>\n",
    "  dplyr::summarize(\n",
    "    n_covid = sum(covid),\n",
    "    n_hospital = sum(hospital)\n",
    "  )"
   ]
  },
  {
   "cell_type": "code",
   "execution_count": null,
   "id": "6792fd5e-aaa4-42a1-87e6-56c273639dce",
   "metadata": {},
   "outputs": [],
   "source": [
    "month_year_line <- \n",
    "  ggplot(month_year_count, aes(x = monitoring_date, y = n)) +\n",
    "  geom_line() +\n",
    "  geom_point() +\n",
    "  theme_truveta() +\n",
    "  labs(\n",
    "    x = 'Month-Year', \n",
    "    y = 'Count of patients finishing primary vaccine series'\n",
    "  )\n",
    "\n",
    "write_ggplot(month_year_line, file.path(results_dir, \"month_year_count.png\"))\n",
    "\n",
    "month_year_line"
   ]
  },
  {
   "cell_type": "code",
   "execution_count": null,
   "id": "8e5224d1-d6f3-4b00-81d0-aed617063e8d",
   "metadata": {},
   "outputs": [],
   "source": [
    "month_year_log_line <- \n",
    "  ggplot(month_year_count, aes(x = monitoring_date, y = n_log)) +\n",
    "  geom_line() +\n",
    "  geom_point() +\n",
    "  theme_truveta() +\n",
    "  labs(\n",
    "    x = 'Month-Year', \n",
    "    y = 'Log-count of patients finishing primary vaccine series'\n",
    "  )\n",
    "\n",
    "write_ggplot(month_year_log_line, file.path(results_dir, \"month_year_log_count.png\"))\n",
    "\n",
    "month_year_log_line"
   ]
  },
  {
   "cell_type": "code",
   "execution_count": null,
   "id": "0c04ed0b-6c16-45d8-bcd1-2094851489d3",
   "metadata": {},
   "outputs": [],
   "source": []
  },
  {
   "cell_type": "markdown",
   "id": "d87ade79-5d51-478b-bf7f-26162ef23c6a",
   "metadata": {},
   "source": [
    "### Comorbidities"
   ]
  },
  {
   "cell_type": "code",
   "execution_count": null,
   "id": "9505df46-6a33-489b-b453-80c9f8cb06af",
   "metadata": {},
   "outputs": [],
   "source": [
    "condition_breakthrough_tab <- \n",
    "  df |> \n",
    "  dplyr::select(ckd, diabetes, immunocompromised, lung, covid) |> \n",
    "  group_by(ckd, diabetes, immunocompromised, lung, covid) |>\n",
    "  dplyr::count(name = 'count') |>\n",
    "  dplyr::ungroup() |> \n",
    "  tidyr::complete(\n",
    "    ckd, diabetes, immunocompromised, lung, covid,\n",
    "    fill = list(count = 0)\n",
    "  ) |>\n",
    "  dplyr::mutate(dplyr::across(everything(), ~ as.integer(.x)))\n",
    "\n",
    "write_table(\n",
    "  condition_breakthrough_tab, \n",
    "  file.path(results_dir, \"condition_breakthrough_counts.csv\")\n",
    ")\n",
    "\n",
    "label <- 'tab:breakthrough_counts'\n",
    "caption <- 'Counts of patients by comorbidity and breakthrough COVID-19 infection outcome status. 0 indicates absence of comorbidity or no breakthrough infection. 1 indicates present of comorbidity or breakthrough infeciton.'\n",
    "\n",
    "xtable::print.xtable(\n",
    "  xtable::xtable(\n",
    "    as.data.frame(condition_breakthrough_tab, make.names = FALSE), \n",
    "    label = label,\n",
    "    caption = caption\n",
    "  ),\n",
    "  type = 'latex', \n",
    "  file = here::here('results', 'condition_breakthrough_counts.tex'), \n",
    "  include.rownames = FALSE,\n",
    "  comment = FALSE,\n",
    "  timestamp = NULL,\n",
    "  table.placement = '!htbp'\n",
    ")\n",
    "\n",
    "condition_breakthrough_tab"
   ]
  },
  {
   "cell_type": "code",
   "execution_count": null,
   "id": "d411390b-35fa-405e-a389-1dea27f20f37",
   "metadata": {},
   "outputs": [],
   "source": [
    "condition_hospital_tab <- \n",
    "  df |> \n",
    "  dplyr::filter(covid == 1) |>\n",
    "  dplyr::select(ckd, diabetes, immunocompromised, lung, hospital) |> \n",
    "  group_by(ckd, diabetes, immunocompromised, lung, hospital) |>\n",
    "  dplyr::count(name = 'count') |>\n",
    "  dplyr::ungroup() |> \n",
    "  tidyr::complete(\n",
    "    ckd, diabetes, immunocompromised, lung, hospital,\n",
    "    fill = list(count = 0)\n",
    "  ) |>\n",
    "  dplyr::mutate(dplyr::across(everything(), ~ as.integer(.x)))\n",
    "\n",
    "write_table(\n",
    "  condition_hospital_tab, \n",
    "  file.path(results_dir, \"condition_hospital_counts.csv\")\n",
    ")\n",
    "\n",
    "label <- 'tab:hospital_counts'\n",
    "caption <- 'Counts of patients by comorbidity and hospitalization following breakthrough COVID-19 infection outcome status. 0 indicates absence of comorbidity or not hospitalized. 1 indicates present of comorbidity or hospitalized.'\n",
    "\n",
    "xtable::print.xtable(\n",
    "  xtable::xtable(\n",
    "    as.data.frame(condition_hospital_tab, make.names = FALSE), \n",
    "    label = label,\n",
    "    caption = caption\n",
    "  ),\n",
    "  type = 'latex', \n",
    "  file = here::here('results', 'condition_hospital_counts.tex'), \n",
    "  include.rownames = FALSE,\n",
    "  comment = FALSE,\n",
    "  timestamp = NULL,\n",
    "  table.placement = '!htbp',\n",
    "  format.args = list(big.mark = ',')\n",
    ")\n",
    "\n",
    "condition_hospital_tab"
   ]
  },
  {
   "cell_type": "code",
   "execution_count": null,
   "id": "ae509cff-b6b5-4f73-a2cd-5c68c96cae16",
   "metadata": {},
   "outputs": [],
   "source": []
  },
  {
   "cell_type": "markdown",
   "id": "f14bef21-caa9-4221-a1df-8a890ec4981e",
   "metadata": {},
   "source": [
    "## Outcomes"
   ]
  },
  {
   "cell_type": "code",
   "execution_count": null,
   "id": "6580cb28-febb-49d0-96da-35a416775452",
   "metadata": {},
   "outputs": [],
   "source": [
    "race_breakthrough_count <- \n",
    "  df |> \n",
    "  dplyr::group_by(race) |>\n",
    "  dplyr::count(covid, name = 'count') |> \n",
    "  dplyr::ungroup() |>\n",
    "  tidyr::complete(\n",
    "    race, covid,\n",
    "    fill = list(count = 0)\n",
    "  )\n",
    "\n",
    "write_table(race_breakthrough_count, file.path(results_dir, \"race_breakthrough_counts.csv\"))\n",
    "\n",
    "race_breakthrough_count"
   ]
  },
  {
   "cell_type": "code",
   "execution_count": null,
   "id": "20d81cbf-7a52-483b-930d-d7be53e0012b",
   "metadata": {},
   "outputs": [],
   "source": [
    "race_hospital_count <- \n",
    "  df |> \n",
    "  dplyr::filter(covid == 1) |>\n",
    "  dplyr::group_by(race) |>\n",
    "  dplyr::count(hospital, name = 'count') |> \n",
    "  dplyr::ungroup() |>\n",
    "  tidyr::complete(\n",
    "    race, hospital,\n",
    "    fill = list(count = 0)\n",
    "  )\n",
    "\n",
    "write_table(race_hospital_count, file.path(results_dir, \"race_hospital_counts.csv\"))\n",
    "\n",
    "race_hospital_count"
   ]
  },
  {
   "cell_type": "code",
   "execution_count": null,
   "id": "b666d266-5c01-4803-8d16-3f61aee4d22c",
   "metadata": {},
   "outputs": [],
   "source": []
  },
  {
   "cell_type": "code",
   "execution_count": null,
   "id": "738bbf6c-d854-428d-a075-72322b538d48",
   "metadata": {},
   "outputs": [],
   "source": []
  },
  {
   "cell_type": "code",
   "execution_count": null,
   "id": "97cf5cd8-a410-4185-9ed5-e85827ca149e",
   "metadata": {},
   "outputs": [],
   "source": [
    "df_temp <-\n",
    "  df |>\n",
    "  dplyr::mutate(covid_state = dplyr::if_else(covid == 1, 'breakthrough', 'no COVID'))\n",
    "\n",
    "g <- \n",
    "  ggplot(df_temp, aes(x = covid_state)) +\n",
    "  geom_bar() +\n",
    "  labs(title = \"COVID within 180 days of vaccination\") +\n",
    "  theme_truveta() +\n",
    "  scale_x_discrete(guide = guide_axis(angle = 45))\n",
    "\n",
    "write_ggplot(g, file.path(results_dir, \"covid_breakthrough.png\"))\n",
    "\n",
    "g"
   ]
  },
  {
   "cell_type": "code",
   "execution_count": null,
   "id": "1aa2c66b-6a59-40b0-87e9-0208658a49b9",
   "metadata": {
    "vscode": {
     "languageId": "r"
    }
   },
   "outputs": [],
   "source": [
    "df_temp <-\n",
    "  df |>\n",
    "  dplyr::filter(covid == 1) |>\n",
    "  dplyr::mutate(hospital_state = dplyr::if_else(hospital == 1, 'hospitalized', 'no hospital'))\n",
    "\n",
    "g <- \n",
    "  ggplot(df_temp, aes(x = hospital_state)) +\n",
    "  geom_bar() +\n",
    "  labs(title = \"Hospitalized after breakthrough COVID\") +\n",
    "  theme_truveta() +\n",
    "  scale_x_discrete(guide = guide_axis(angle = 45))\n",
    "\n",
    "write_ggplot(g, file.path(results_dir, \"covid_hospitalized.png\"))\n",
    "\n",
    "g"
   ]
  },
  {
   "cell_type": "code",
   "execution_count": null,
   "id": "769055ae-dda8-48db-b71e-484b1a62114c",
   "metadata": {},
   "outputs": [],
   "source": []
  },
  {
   "cell_type": "markdown",
   "id": "2f73a2e3-f360-4aec-b1e9-2e597c7d1ea3",
   "metadata": {},
   "source": [
    "### K-M curves (not very helpful)"
   ]
  },
  {
   "cell_type": "code",
   "execution_count": null,
   "id": "b21cd827-95a0-41b8-9240-0512562a61b6",
   "metadata": {},
   "outputs": [],
   "source": [
    "km <- survfit(Surv(time = outcome_time, event = covid) ~ ckd, data = df)\n",
    "g <- ggsurvplot(km, data = df, risk.table = TRUE)"
   ]
  },
  {
   "cell_type": "code",
   "execution_count": null,
   "id": "33de9fae-db93-47ac-a6e5-b328451dbc3c",
   "metadata": {},
   "outputs": [],
   "source": [
    "km <- survfit(Surv(time = outcome_time, event = covid) ~ diabetes, data = df)\n",
    "g <- ggsurvplot(km, data = df, risk.table = TRUE)"
   ]
  },
  {
   "cell_type": "code",
   "execution_count": null,
   "id": "b986a242-8fba-4cab-91e8-0a61a5ef9871",
   "metadata": {},
   "outputs": [],
   "source": [
    "km <- survfit(Surv(time = outcome_time, event = covid) ~ immunocompromised, data = df)\n",
    "g <- ggsurvplot(km, data = df, risk.table = TRUE)"
   ]
  },
  {
   "cell_type": "code",
   "execution_count": null,
   "id": "6e0e8ef7-7ee9-4f69-97e3-f5bed69173b2",
   "metadata": {},
   "outputs": [],
   "source": [
    "km <- survfit(Surv(time = outcome_time, event = covid) ~ lung, data = df)\n",
    "g <- ggsurvplot(km, data = df, risk.table = TRUE)"
   ]
  },
  {
   "cell_type": "code",
   "execution_count": null,
   "id": "ccab2df5-b132-4993-a6b6-f43579b8d831",
   "metadata": {},
   "outputs": [],
   "source": [
    "km <- survfit(Surv(time = outcome_time, event = covid) ~ ckd + diabetes + immunocompromised + lung, data = df)\n",
    "g <- ggsurvplot(km, data = df, risk.table = TRUE)"
   ]
  },
  {
   "cell_type": "code",
   "execution_count": null,
   "id": "a7d2534f-ce1f-48d9-b26f-17fc22b8a79f",
   "metadata": {},
   "outputs": [],
   "source": []
  }
 ],
 "metadata": {
  "kernelspec": {
   "display_name": "R",
   "language": "R",
   "name": "ir"
  },
  "language_info": {
   "codemirror_mode": "r",
   "file_extension": ".r",
   "mimetype": "text/x-r-source",
   "name": "R",
   "pygments_lexer": "r",
   "version": "4.1.3"
  }
 },
 "nbformat": 4,
 "nbformat_minor": 5
}
